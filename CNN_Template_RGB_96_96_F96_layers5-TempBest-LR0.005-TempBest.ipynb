{
 "cells": [
  {
   "cell_type": "markdown",
   "metadata": {},
   "source": [
    "# Convolutional Neural Network in TensorFlow\n"
   ]
  },
  {
   "cell_type": "code",
   "execution_count": 1,
   "metadata": {
    "collapsed": false
   },
   "outputs": [],
   "source": [
    "import pandas as pd\n",
    "import numpy as np\n",
    "from sklearn.preprocessing import StandardScaler\n",
    "from sklearn.cross_validation import train_test_split\n",
    "data1 = pd.read_csv('./Nor96.csv', sep=\",\")\n",
    "data2 = pd.read_csv('./Ab96.csv', sep=\",\")\n",
    "\n",
    "data=data1.append(data2,ignore_index = True)"
   ]
  },
  {
   "cell_type": "code",
   "execution_count": 2,
   "metadata": {
    "collapsed": true
   },
   "outputs": [],
   "source": [
    "X = data[data.columns[0:27648]]"
   ]
  },
  {
   "cell_type": "code",
   "execution_count": 3,
   "metadata": {
    "collapsed": true
   },
   "outputs": [],
   "source": [
    "X = X.as_matrix().astype(np.float32)\n",
    "scaler = StandardScaler()\n",
    "X = scaler.fit_transform(X)"
   ]
  },
  {
   "cell_type": "code",
   "execution_count": 4,
   "metadata": {
    "collapsed": false
   },
   "outputs": [],
   "source": [
    "y = data[data.columns[27648:27650]]\n",
    "y = y.as_matrix().astype(np.float32)"
   ]
  },
  {
   "cell_type": "code",
   "execution_count": 5,
   "metadata": {
    "collapsed": true
   },
   "outputs": [],
   "source": [
    "x_train, x_test, y_train, y_test = train_test_split(X, y, test_size=0.25, random_state=200)"
   ]
  },
  {
   "cell_type": "code",
   "execution_count": 6,
   "metadata": {
    "collapsed": true
   },
   "outputs": [],
   "source": [
    "import tensorflow as tf"
   ]
  },
  {
   "cell_type": "code",
   "execution_count": 7,
   "metadata": {
    "collapsed": true
   },
   "outputs": [],
   "source": [
    "# Parameters\n",
    "# learning_rate = 0.001\n",
    "learning_rate = 0.005\n",
    "training_iters = 100000\n",
    "batch_size = 21\n",
    "display_step = 20"
   ]
  },
  {
   "cell_type": "code",
   "execution_count": 8,
   "metadata": {
    "collapsed": true
   },
   "outputs": [],
   "source": [
    "# Network Parameters\n",
    "n_input = 27648 # MNIST data input (img shape: 28*28)\n",
    "n_classes = 2 # MNIST total classes (0-2 digits)\n",
    "dropout = 0.75 # Dropout, probability to keep units"
   ]
  },
  {
   "cell_type": "code",
   "execution_count": 9,
   "metadata": {
    "collapsed": true
   },
   "outputs": [],
   "source": [
    "# tf Graph input\n",
    "x = tf.placeholder(tf.float32, [None, n_input])\n",
    "y = tf.placeholder(tf.float32, [None, n_classes])\n",
    "keep_prob = tf.placeholder(tf.float32) #dropout (keep probability)"
   ]
  },
  {
   "cell_type": "code",
   "execution_count": 10,
   "metadata": {
    "collapsed": true
   },
   "outputs": [],
   "source": [
    "# Create model\n",
    "def conv2d(img, w, b):\n",
    "    return tf.nn.relu(tf.nn.bias_add(tf.nn.conv2d(img, w, strides=[1, 1, 1, 1], \n",
    "                                                  padding='SAME'),b))\n",
    "\n",
    "def max_pool(img, k):\n",
    "    return tf.nn.max_pool(img, ksize=[1, k, k, 1], strides=[1, k, k, 1], padding='SAME')\n",
    "\n",
    "def conv_net(_X, _weights, _biases, _dropout):\n",
    "    # Reshape input picture\n",
    "    _X = tf.reshape(_X, shape=[-1, 96, 96, 3])\n",
    "\n",
    "    # Convolution Layer\n",
    "    conv1 = conv2d(_X, _weights['wc1'], _biases['bc1'])\n",
    "    # Max Pooling (down-sampling)\n",
    "    conv1 = max_pool(conv1, k=2)\n",
    "    # Apply Dropout\n",
    "    conv1 = tf.nn.dropout(conv1, _dropout)\n",
    "\n",
    "    # Convolution Layer\n",
    "    conv2 = conv2d(conv1, _weights['wc2'], _biases['bc2'])\n",
    "    # Max Pooling (down-sampling)\n",
    "    conv2 = max_pool(conv2, k=2)\n",
    "    # Apply Dropout\n",
    "    conv2 = tf.nn.dropout(conv2, _dropout)\n",
    "    \n",
    "    # Convolution Layer\n",
    "    conv3 = conv2d(conv2, _weights['wc3'], _biases['bc3'])\n",
    "    # Max Pooling (down-sampling)\n",
    "    conv3 = max_pool(conv3, k=2)\n",
    "    # Apply Dropout\n",
    "    conv3 = tf.nn.dropout(conv3, _dropout)\n",
    "    \n",
    "    # Convolution Layer\n",
    "    conv4 = conv2d(conv3, _weights['wc4'], _biases['bc4'])\n",
    "    # Max Pooling (down-sampling)\n",
    "    conv4 = max_pool(conv4, k=2)\n",
    "    # Apply Dropout\n",
    "    conv4 = tf.nn.dropout(conv4, _dropout)\n",
    "\n",
    "    # Convolution Layer\n",
    "    conv5 = conv2d(conv4, _weights['wc5'], _biases['bc5'])\n",
    "    # Max Pooling (down-sampling)\n",
    "    conv5 = max_pool(conv5, k=2)\n",
    "    # Apply Dropout\n",
    "    conv5 = tf.nn.dropout(conv5, _dropout)\n",
    "\n",
    "    # Fully connected layer\n",
    "    # Reshape conv2 output to fit dense layer input\n",
    "    dense1 = tf.reshape(conv5, [-1, _weights['wd1'].get_shape().as_list()[0]]) \n",
    "    # Relu activation\n",
    "    dense1 = tf.nn.relu(tf.add(tf.matmul(dense1, _weights['wd1']), _biases['bd1']))\n",
    "    # Apply Dropout\n",
    "    dense1 = tf.nn.dropout(dense1, _dropout) # Apply Dropout\n",
    "\n",
    "    # Output, class prediction\n",
    "    out = tf.add(tf.matmul(dense1, _weights['out']), _biases['out'])\n",
    "    return out"
   ]
  },
  {
   "cell_type": "code",
   "execution_count": 11,
   "metadata": {
    "collapsed": true
   },
   "outputs": [],
   "source": [
    "# Store layers weight & bias\n",
    "weights = {\n",
    "    # 5x5 conv, 1 input, 32 outputs\n",
    "    'wc1': tf.Variable(tf.random_normal([5, 5, 3, 96])), \n",
    "    # 5x5 conv, 32 inputs, 64 outputs\n",
    "    'wc2': tf.Variable(tf.random_normal([5, 5, 96, 192])), \n",
    "    'wc3': tf.Variable(tf.random_normal([5, 5, 192, 384])), \n",
    "    'wc4': tf.Variable(tf.random_normal([5, 5, 384, 768])), \n",
    "    'wc5': tf.Variable(tf.random_normal([5, 5, 768, 1536])), \n",
    "    \n",
    "\n",
    "    # fully connected, 7*7*64 inputs, 1024 outputs\n",
    "    'wd1': tf.Variable(tf.random_normal([3*3*1536, 3072])), \n",
    "    # 1024 inputs, 2 outputs (class prediction)\n",
    "    'out': tf.Variable(tf.random_normal([3072, n_classes])) \n",
    "}\n",
    "\n",
    "biases = {\n",
    "    'bc1': tf.Variable(tf.random_normal([96])),\n",
    "    'bc2': tf.Variable(tf.random_normal([192])),\n",
    "    'bc3': tf.Variable(tf.random_normal([384])),\n",
    "    'bc4': tf.Variable(tf.random_normal([768])),\n",
    "    'bc5': tf.Variable(tf.random_normal([1536])),\n",
    "    'bd1': tf.Variable(tf.random_normal([3072])),\n",
    "    'out': tf.Variable(tf.random_normal([n_classes]))\n",
    "}"
   ]
  },
  {
   "cell_type": "code",
   "execution_count": 12,
   "metadata": {
    "collapsed": false
   },
   "outputs": [],
   "source": [
    "# Construct model\n",
    "pred = conv_net(x, weights, biases, keep_prob)"
   ]
  },
  {
   "cell_type": "code",
   "execution_count": 13,
   "metadata": {
    "collapsed": true
   },
   "outputs": [],
   "source": [
    "# Define loss and optimizer\n",
    "cost = tf.reduce_mean(tf.nn.softmax_cross_entropy_with_logits(pred, y))\n",
    "optimizer = tf.train.AdamOptimizer(learning_rate=learning_rate).minimize(cost)"
   ]
  },
  {
   "cell_type": "code",
   "execution_count": 14,
   "metadata": {
    "collapsed": true
   },
   "outputs": [],
   "source": [
    "# Evaluate model\n",
    "correct_pred = tf.equal(tf.argmax(pred,1), tf.argmax(y,1))\n",
    "accuracy = tf.reduce_mean(tf.cast(correct_pred, tf.float32))"
   ]
  },
  {
   "cell_type": "code",
   "execution_count": 15,
   "metadata": {
    "collapsed": true
   },
   "outputs": [],
   "source": [
    "# Initializing the variables\n",
    "init = tf.initialize_all_variables()"
   ]
  },
  {
   "cell_type": "code",
   "execution_count": 16,
   "metadata": {
    "collapsed": true
   },
   "outputs": [],
   "source": [
    "def batch_gen(X, y, N):\n",
    "    while True:\n",
    "        idx = np.random.choice(len(y), N)\n",
    "        yield X[idx].astype('float32'), y[idx].astype('float32')"
   ]
  },
  {
   "cell_type": "code",
   "execution_count": 17,
   "metadata": {
    "collapsed": false,
    "scrolled": false
   },
   "outputs": [
    {
     "name": "stdout",
     "output_type": "stream",
     "text": [
      "Iter 420, Minibatch Loss= 90782162944.000000, Training Accuracy= 0.47619\n",
      "('Testing Accuracy:', 0.52380955)\n",
      "Iter 840, Minibatch Loss= 9079764992.000000, Training Accuracy= 0.57143\n",
      "('Testing Accuracy:', 0.54761904)\n",
      "Iter 1260, Minibatch Loss= 5027045888.000000, Training Accuracy= 0.61905\n",
      "('Testing Accuracy:', 0.66666669)\n",
      "Iter 1680, Minibatch Loss= 6387364352.000000, Training Accuracy= 0.61905\n",
      "('Testing Accuracy:', 0.54761904)\n",
      "Iter 2100, Minibatch Loss= 1341291648.000000, Training Accuracy= 0.95238\n",
      "('Testing Accuracy:', 0.66666669)\n",
      "Iter 2520, Minibatch Loss= 1008756608.000000, Training Accuracy= 0.85714\n",
      "('Testing Accuracy:', 0.71428573)\n",
      "Iter 2940, Minibatch Loss= 1542975872.000000, Training Accuracy= 0.71429\n",
      "('Testing Accuracy:', 0.78571427)\n",
      "Iter 3360, Minibatch Loss= 4526496256.000000, Training Accuracy= 0.52381\n",
      "('Testing Accuracy:', 0.73809522)\n",
      "Iter 3780, Minibatch Loss= 679201024.000000, Training Accuracy= 0.90476\n",
      "('Testing Accuracy:', 0.64285713)\n",
      "Iter 4200, Minibatch Loss= 9265269760.000000, Training Accuracy= 0.42857\n",
      "('Testing Accuracy:', 0.54761904)\n",
      "Iter 4620, Minibatch Loss= 1200672128.000000, Training Accuracy= 0.76190\n",
      "('Testing Accuracy:', 0.83333331)\n",
      "Iter 5040, Minibatch Loss= 2143592832.000000, Training Accuracy= 0.90476\n",
      "('Testing Accuracy:', 0.69047618)\n",
      "Iter 5460, Minibatch Loss= 1758190080.000000, Training Accuracy= 0.80952\n",
      "('Testing Accuracy:', 0.61904764)\n",
      "Iter 5880, Minibatch Loss= 2868528640.000000, Training Accuracy= 0.66667\n",
      "('Testing Accuracy:', 0.69047618)\n",
      "Iter 6300, Minibatch Loss= 2732213504.000000, Training Accuracy= 0.80952\n",
      "('Testing Accuracy:', 0.69047618)\n",
      "Iter 6720, Minibatch Loss= 1066182272.000000, Training Accuracy= 0.80952\n",
      "('Testing Accuracy:', 0.69047618)\n",
      "Iter 7140, Minibatch Loss= 2551669504.000000, Training Accuracy= 0.76190\n",
      "('Testing Accuracy:', 0.59523809)\n",
      "Iter 7560, Minibatch Loss= 744261056.000000, Training Accuracy= 0.80952\n",
      "('Testing Accuracy:', 0.64285713)\n",
      "Iter 7980, Minibatch Loss= 340496352.000000, Training Accuracy= 0.90476\n",
      "('Testing Accuracy:', 0.66666669)\n",
      "Iter 8400, Minibatch Loss= 1045073600.000000, Training Accuracy= 0.80952\n",
      "('Testing Accuracy:', 0.71428573)\n",
      "Iter 8820, Minibatch Loss= 1052748096.000000, Training Accuracy= 0.85714\n",
      "('Testing Accuracy:', 0.64285713)\n",
      "Iter 9240, Minibatch Loss= 5641860608.000000, Training Accuracy= 0.42857\n",
      "('Testing Accuracy:', 0.5714286)\n",
      "Iter 9660, Minibatch Loss= 983343680.000000, Training Accuracy= 0.76190\n",
      "('Testing Accuracy:', 0.69047618)\n",
      "Iter 10080, Minibatch Loss= 142849360.000000, Training Accuracy= 0.90476\n",
      "('Testing Accuracy:', 0.73809522)\n",
      "Iter 10500, Minibatch Loss= 602313984.000000, Training Accuracy= 0.85714\n",
      "('Testing Accuracy:', 0.78571427)\n",
      "Iter 10920, Minibatch Loss= 1646504576.000000, Training Accuracy= 0.71429\n",
      "('Testing Accuracy:', 0.73809522)\n",
      "Iter 11340, Minibatch Loss= 4870755840.000000, Training Accuracy= 0.57143\n",
      "('Testing Accuracy:', 0.54761904)\n",
      "Iter 11760, Minibatch Loss= 2340819456.000000, Training Accuracy= 0.66667\n",
      "('Testing Accuracy:', 0.71428573)\n",
      "Iter 12180, Minibatch Loss= 803538048.000000, Training Accuracy= 0.85714\n",
      "('Testing Accuracy:', 0.64285713)\n",
      "Iter 12600, Minibatch Loss= 720613696.000000, Training Accuracy= 0.71429\n",
      "('Testing Accuracy:', 0.71428573)\n",
      "Iter 13020, Minibatch Loss= 816745792.000000, Training Accuracy= 0.80952\n",
      "('Testing Accuracy:', 0.69047618)\n",
      "Iter 13440, Minibatch Loss= 0.000000, Training Accuracy= 1.00000\n",
      "('Testing Accuracy:', 0.73809522)\n",
      "Iter 13860, Minibatch Loss= 297145184.000000, Training Accuracy= 0.95238\n",
      "('Testing Accuracy:', 0.73809522)\n",
      "Iter 14280, Minibatch Loss= 652012224.000000, Training Accuracy= 0.90476\n",
      "('Testing Accuracy:', 0.76190478)\n",
      "Iter 14700, Minibatch Loss= 345411424.000000, Training Accuracy= 0.90476\n",
      "('Testing Accuracy:', 0.69047618)\n",
      "Iter 15120, Minibatch Loss= 0.000000, Training Accuracy= 1.00000\n",
      "('Testing Accuracy:', 0.71428573)\n",
      "Iter 15540, Minibatch Loss= 0.000000, Training Accuracy= 1.00000\n",
      "('Testing Accuracy:', 0.73809522)\n",
      "Iter 15960, Minibatch Loss= 3564855296.000000, Training Accuracy= 0.66667\n",
      "('Testing Accuracy:', 0.69047618)\n",
      "Iter 16380, Minibatch Loss= 3335202304.000000, Training Accuracy= 0.57143\n",
      "('Testing Accuracy:', 0.64285713)\n",
      "Iter 16800, Minibatch Loss= 340406112.000000, Training Accuracy= 0.90476\n",
      "('Testing Accuracy:', 0.71428573)\n",
      "Iter 17220, Minibatch Loss= 0.000000, Training Accuracy= 1.00000\n",
      "('Testing Accuracy:', 0.73809522)\n",
      "Iter 17640, Minibatch Loss= 15717937.000000, Training Accuracy= 0.95238\n",
      "('Testing Accuracy:', 0.71428573)\n",
      "Iter 18060, Minibatch Loss= 2415017216.000000, Training Accuracy= 0.71429\n",
      "('Testing Accuracy:', 0.71428573)\n",
      "Iter 18480, Minibatch Loss= 374000384.000000, Training Accuracy= 0.85714\n",
      "('Testing Accuracy:', 0.73809522)\n",
      "Iter 18900, Minibatch Loss= 736946688.000000, Training Accuracy= 0.85714\n",
      "('Testing Accuracy:', 0.66666669)\n",
      "Iter 19320, Minibatch Loss= 616496448.000000, Training Accuracy= 0.76190\n",
      "('Testing Accuracy:', 0.73809522)\n",
      "Iter 19740, Minibatch Loss= 946426432.000000, Training Accuracy= 0.80952\n",
      "('Testing Accuracy:', 0.71428573)\n",
      "Iter 20160, Minibatch Loss= 2216647424.000000, Training Accuracy= 0.61905\n",
      "('Testing Accuracy:', 0.61904764)\n",
      "Iter 20580, Minibatch Loss= 842371200.000000, Training Accuracy= 0.76190\n",
      "('Testing Accuracy:', 0.69047618)\n",
      "Iter 21000, Minibatch Loss= 377501824.000000, Training Accuracy= 0.90476\n",
      "('Testing Accuracy:', 0.64285713)\n",
      "Iter 21420, Minibatch Loss= 2386975744.000000, Training Accuracy= 0.66667\n",
      "('Testing Accuracy:', 0.61904764)\n",
      "Iter 21840, Minibatch Loss= 0.000000, Training Accuracy= 1.00000\n",
      "('Testing Accuracy:', 0.85714287)\n",
      "Iter 22260, Minibatch Loss= 871705664.000000, Training Accuracy= 0.71429\n",
      "('Testing Accuracy:', 0.69047618)\n",
      "Iter 22680, Minibatch Loss= 7149312.000000, Training Accuracy= 0.95238\n",
      "('Testing Accuracy:', 0.85714287)\n",
      "Iter 23100, Minibatch Loss= 757911424.000000, Training Accuracy= 0.80952\n",
      "('Testing Accuracy:', 0.69047618)\n",
      "Iter 23520, Minibatch Loss= 0.000000, Training Accuracy= 1.00000\n",
      "('Testing Accuracy:', 0.83333331)\n",
      "Iter 23940, Minibatch Loss= 625724352.000000, Training Accuracy= 0.76190\n",
      "('Testing Accuracy:', 0.69047618)\n",
      "Iter 24360, Minibatch Loss= 490874592.000000, Training Accuracy= 0.85714\n",
      "('Testing Accuracy:', 0.78571427)\n",
      "Iter 24780, Minibatch Loss= 475759776.000000, Training Accuracy= 0.95238\n",
      "('Testing Accuracy:', 0.71428573)\n",
      "Iter 25200, Minibatch Loss= 122181864.000000, Training Accuracy= 0.90476\n",
      "('Testing Accuracy:', 0.85714287)\n",
      "Iter 25620, Minibatch Loss= 1531885824.000000, Training Accuracy= 0.71429\n",
      "('Testing Accuracy:', 0.66666669)\n",
      "Iter 26040, Minibatch Loss= 279702880.000000, Training Accuracy= 0.90476\n",
      "('Testing Accuracy:', 0.69047618)\n",
      "Iter 26460, Minibatch Loss= 0.000000, Training Accuracy= 1.00000\n",
      "('Testing Accuracy:', 0.85714287)\n",
      "Iter 26880, Minibatch Loss= 87441360.000000, Training Accuracy= 0.90476\n",
      "('Testing Accuracy:', 0.71428573)\n",
      "Iter 27300, Minibatch Loss= 0.000000, Training Accuracy= 1.00000\n",
      "('Testing Accuracy:', 0.83333331)\n",
      "Iter 27720, Minibatch Loss= 51901536.000000, Training Accuracy= 0.95238\n",
      "('Testing Accuracy:', 0.83333331)\n",
      "Iter 28140, Minibatch Loss= 35333388.000000, Training Accuracy= 0.95238\n",
      "('Testing Accuracy:', 0.80952382)\n",
      "Iter 28560, Minibatch Loss= 411752640.000000, Training Accuracy= 0.80952\n",
      "('Testing Accuracy:', 0.76190478)\n",
      "Iter 28980, Minibatch Loss= 0.000000, Training Accuracy= 1.00000\n",
      "('Testing Accuracy:', 0.73809522)\n",
      "Iter 29400, Minibatch Loss= 131520416.000000, Training Accuracy= 0.95238\n",
      "('Testing Accuracy:', 0.71428573)\n",
      "Iter 29820, Minibatch Loss= 0.000000, Training Accuracy= 1.00000\n",
      "('Testing Accuracy:', 0.83333331)\n",
      "Iter 30240, Minibatch Loss= 144687136.000000, Training Accuracy= 0.95238\n",
      "('Testing Accuracy:', 0.73809522)\n",
      "Iter 30660, Minibatch Loss= 0.000000, Training Accuracy= 1.00000\n",
      "('Testing Accuracy:', 0.88095236)\n",
      "Iter 31080, Minibatch Loss= 140231552.000000, Training Accuracy= 0.90476\n",
      "('Testing Accuracy:', 0.78571427)\n",
      "Iter 31500, Minibatch Loss= 0.000000, Training Accuracy= 1.00000\n",
      "('Testing Accuracy:', 0.80952382)\n",
      "Iter 31920, Minibatch Loss= 19890590.000000, Training Accuracy= 0.95238\n",
      "('Testing Accuracy:', 0.76190478)\n",
      "Iter 32340, Minibatch Loss= 100497344.000000, Training Accuracy= 0.90476\n",
      "('Testing Accuracy:', 0.78571427)\n",
      "Iter 32760, Minibatch Loss= 0.000000, Training Accuracy= 1.00000\n",
      "('Testing Accuracy:', 0.71428573)\n",
      "Iter 33180, Minibatch Loss= 37400620.000000, Training Accuracy= 0.95238\n",
      "('Testing Accuracy:', 0.9285714)\n",
      "Iter 33600, Minibatch Loss= 0.000000, Training Accuracy= 1.00000\n",
      "('Testing Accuracy:', 0.88095236)\n",
      "Iter 34020, Minibatch Loss= 0.000000, Training Accuracy= 1.00000\n",
      "('Testing Accuracy:', 0.83333331)\n",
      "Iter 34440, Minibatch Loss= 0.000000, Training Accuracy= 1.00000\n",
      "('Testing Accuracy:', 0.80952382)\n",
      "Iter 34860, Minibatch Loss= 111909160.000000, Training Accuracy= 0.95238\n",
      "('Testing Accuracy:', 0.78571427)\n",
      "Iter 35280, Minibatch Loss= 0.000000, Training Accuracy= 1.00000\n",
      "('Testing Accuracy:', 0.90476191)\n",
      "Iter 35700, Minibatch Loss= 0.000000, Training Accuracy= 1.00000\n",
      "('Testing Accuracy:', 0.80952382)\n",
      "Iter 36120, Minibatch Loss= 0.000000, Training Accuracy= 1.00000\n",
      "('Testing Accuracy:', 0.83333331)\n",
      "Iter 36540, Minibatch Loss= 0.000000, Training Accuracy= 1.00000\n",
      "('Testing Accuracy:', 0.78571427)\n",
      "Iter 36960, Minibatch Loss= 147080640.000000, Training Accuracy= 0.85714\n",
      "('Testing Accuracy:', 0.76190478)\n",
      "Iter 37380, Minibatch Loss= 0.000000, Training Accuracy= 1.00000\n",
      "('Testing Accuracy:', 0.90476191)\n",
      "Iter 37800, Minibatch Loss= 305766816.000000, Training Accuracy= 0.85714\n",
      "('Testing Accuracy:', 0.73809522)\n",
      "Iter 38220, Minibatch Loss= 0.000000, Training Accuracy= 1.00000\n",
      "('Testing Accuracy:', 0.78571427)\n",
      "Iter 38640, Minibatch Loss= 0.000000, Training Accuracy= 1.00000\n",
      "('Testing Accuracy:', 0.85714287)\n",
      "Iter 39060, Minibatch Loss= 27277776.000000, Training Accuracy= 0.95238\n",
      "('Testing Accuracy:', 0.76190478)\n",
      "Iter 39480, Minibatch Loss= 0.000000, Training Accuracy= 1.00000\n",
      "('Testing Accuracy:', 0.78571427)\n",
      "Iter 39900, Minibatch Loss= 0.000000, Training Accuracy= 1.00000\n",
      "('Testing Accuracy:', 0.78571427)\n",
      "Iter 40320, Minibatch Loss= 0.000000, Training Accuracy= 1.00000\n",
      "('Testing Accuracy:', 0.78571427)\n",
      "Iter 40740, Minibatch Loss= 43493256.000000, Training Accuracy= 0.95238\n",
      "('Testing Accuracy:', 0.78571427)\n",
      "Iter 41160, Minibatch Loss= 29282780.000000, Training Accuracy= 0.95238\n",
      "('Testing Accuracy:', 0.76190478)\n",
      "Iter 41580, Minibatch Loss= 82866856.000000, Training Accuracy= 0.95238\n",
      "('Testing Accuracy:', 0.78571427)\n",
      "Iter 42000, Minibatch Loss= 0.000000, Training Accuracy= 1.00000\n",
      "('Testing Accuracy:', 0.90476191)\n",
      "Iter 42420, Minibatch Loss= 946970624.000000, Training Accuracy= 0.80952\n",
      "('Testing Accuracy:', 0.66666669)\n",
      "Iter 42840, Minibatch Loss= 0.000000, Training Accuracy= 1.00000\n",
      "('Testing Accuracy:', 0.85714287)\n",
      "Iter 43260, Minibatch Loss= 31704234.000000, Training Accuracy= 0.95238\n",
      "('Testing Accuracy:', 0.66666669)\n",
      "Iter 43680, Minibatch Loss= 51356268.000000, Training Accuracy= 0.95238\n",
      "('Testing Accuracy:', 0.66666669)\n",
      "Iter 44100, Minibatch Loss= 53877612.000000, Training Accuracy= 0.95238\n",
      "('Testing Accuracy:', 0.73809522)\n",
      "Iter 44520, Minibatch Loss= 555618752.000000, Training Accuracy= 0.85714\n",
      "('Testing Accuracy:', 0.64285713)\n",
      "Iter 44940, Minibatch Loss= 0.000000, Training Accuracy= 1.00000\n",
      "('Testing Accuracy:', 0.76190478)\n",
      "Iter 45360, Minibatch Loss= 0.000000, Training Accuracy= 1.00000\n",
      "('Testing Accuracy:', 0.80952382)\n",
      "Iter 45780, Minibatch Loss= 222761696.000000, Training Accuracy= 0.90476\n",
      "('Testing Accuracy:', 0.66666669)\n",
      "Iter 46200, Minibatch Loss= 0.000000, Training Accuracy= 1.00000\n",
      "('Testing Accuracy:', 0.88095236)\n",
      "Iter 46620, Minibatch Loss= 0.000000, Training Accuracy= 1.00000\n",
      "('Testing Accuracy:', 0.80952382)\n",
      "Iter 47040, Minibatch Loss= 0.000000, Training Accuracy= 1.00000\n",
      "('Testing Accuracy:', 0.83333331)\n",
      "Iter 47460, Minibatch Loss= 0.000000, Training Accuracy= 1.00000\n",
      "('Testing Accuracy:', 0.80952382)\n",
      "Iter 47880, Minibatch Loss= 0.000000, Training Accuracy= 1.00000\n",
      "('Testing Accuracy:', 0.85714287)\n",
      "Iter 48300, Minibatch Loss= 65226448.000000, Training Accuracy= 0.95238\n",
      "('Testing Accuracy:', 0.76190478)\n",
      "Iter 48720, Minibatch Loss= 0.000000, Training Accuracy= 1.00000\n",
      "('Testing Accuracy:', 0.83333331)\n",
      "Iter 49140, Minibatch Loss= 0.000000, Training Accuracy= 1.00000\n",
      "('Testing Accuracy:', 0.73809522)\n",
      "Iter 49560, Minibatch Loss= 0.000000, Training Accuracy= 1.00000\n",
      "('Testing Accuracy:', 0.85714287)\n",
      "Iter 49980, Minibatch Loss= 0.000000, Training Accuracy= 1.00000\n",
      "('Testing Accuracy:', 0.85714287)\n",
      "Iter 50400, Minibatch Loss= 0.000000, Training Accuracy= 1.00000\n",
      "('Testing Accuracy:', 0.83333331)\n",
      "Iter 50820, Minibatch Loss= 0.000000, Training Accuracy= 1.00000\n",
      "('Testing Accuracy:', 0.80952382)\n",
      "Iter 51240, Minibatch Loss= 593872320.000000, Training Accuracy= 0.80952\n",
      "('Testing Accuracy:', 0.64285713)\n",
      "Iter 51660, Minibatch Loss= 0.000000, Training Accuracy= 1.00000\n",
      "('Testing Accuracy:', 0.83333331)\n",
      "Iter 52080, Minibatch Loss= 20374332.000000, Training Accuracy= 0.95238\n",
      "('Testing Accuracy:', 0.76190478)\n",
      "Iter 52500, Minibatch Loss= 0.000000, Training Accuracy= 1.00000\n",
      "('Testing Accuracy:', 0.88095236)\n",
      "Iter 52920, Minibatch Loss= 45285396.000000, Training Accuracy= 0.95238\n",
      "('Testing Accuracy:', 0.76190478)\n",
      "Iter 53340, Minibatch Loss= 0.000000, Training Accuracy= 1.00000\n",
      "('Testing Accuracy:', 0.83333331)\n",
      "Iter 53760, Minibatch Loss= 0.000000, Training Accuracy= 1.00000\n",
      "('Testing Accuracy:', 0.85714287)\n",
      "Iter 54180, Minibatch Loss= 0.000000, Training Accuracy= 1.00000\n",
      "('Testing Accuracy:', 0.83333331)\n",
      "Iter 54600, Minibatch Loss= 0.000000, Training Accuracy= 1.00000\n",
      "('Testing Accuracy:', 0.80952382)\n",
      "Iter 55020, Minibatch Loss= 12929713.000000, Training Accuracy= 0.95238\n",
      "('Testing Accuracy:', 0.73809522)\n",
      "Iter 55440, Minibatch Loss= 0.000000, Training Accuracy= 1.00000\n",
      "('Testing Accuracy:', 0.85714287)\n",
      "Iter 55860, Minibatch Loss= 0.000000, Training Accuracy= 1.00000\n",
      "('Testing Accuracy:', 0.80952382)\n"
     ]
    },
    {
     "ename": "KeyboardInterrupt",
     "evalue": "",
     "output_type": "error",
     "traceback": [
      "\u001b[0;31m---------------------------------------------------------------------------\u001b[0m",
      "\u001b[0;31mKeyboardInterrupt\u001b[0m                         Traceback (most recent call last)",
      "\u001b[0;32m<ipython-input-17-3feaba49370f>\u001b[0m in \u001b[0;36m<module>\u001b[0;34m()\u001b[0m\n\u001b[1;32m      8\u001b[0m         \u001b[0mbatch_xs\u001b[0m\u001b[0;34m,\u001b[0m \u001b[0mbatch_ys\u001b[0m \u001b[0;34m=\u001b[0m \u001b[0mnext\u001b[0m\u001b[0;34m(\u001b[0m\u001b[0mtrain_batches\u001b[0m\u001b[0;34m)\u001b[0m\u001b[0;34m\u001b[0m\u001b[0m\n\u001b[1;32m      9\u001b[0m         \u001b[0;31m# Fit training using batch data\u001b[0m\u001b[0;34m\u001b[0m\u001b[0;34m\u001b[0m\u001b[0m\n\u001b[0;32m---> 10\u001b[0;31m         \u001b[0msess\u001b[0m\u001b[0;34m.\u001b[0m\u001b[0mrun\u001b[0m\u001b[0;34m(\u001b[0m\u001b[0moptimizer\u001b[0m\u001b[0;34m,\u001b[0m \u001b[0mfeed_dict\u001b[0m\u001b[0;34m=\u001b[0m\u001b[0;34m{\u001b[0m\u001b[0mx\u001b[0m\u001b[0;34m:\u001b[0m \u001b[0mbatch_xs\u001b[0m\u001b[0;34m,\u001b[0m \u001b[0my\u001b[0m\u001b[0;34m:\u001b[0m \u001b[0mbatch_ys\u001b[0m\u001b[0;34m,\u001b[0m \u001b[0mkeep_prob\u001b[0m\u001b[0;34m:\u001b[0m \u001b[0mdropout\u001b[0m\u001b[0;34m}\u001b[0m\u001b[0;34m)\u001b[0m\u001b[0;34m\u001b[0m\u001b[0m\n\u001b[0m\u001b[1;32m     11\u001b[0m         \u001b[0;32mif\u001b[0m \u001b[0mstep\u001b[0m \u001b[0;34m%\u001b[0m \u001b[0mdisplay_step\u001b[0m \u001b[0;34m==\u001b[0m \u001b[0;36m0\u001b[0m\u001b[0;34m:\u001b[0m\u001b[0;34m\u001b[0m\u001b[0m\n\u001b[1;32m     12\u001b[0m             \u001b[0;31m# Calculate batch accuracy\u001b[0m\u001b[0;34m\u001b[0m\u001b[0;34m\u001b[0m\u001b[0m\n",
      "\u001b[0;32m/usr/lib/python2.7/site-packages/tensorflow/python/client/session.pyc\u001b[0m in \u001b[0;36mrun\u001b[0;34m(self, fetches, feed_dict, options, run_metadata)\u001b[0m\n\u001b[1;32m    715\u001b[0m     \u001b[0;32mtry\u001b[0m\u001b[0;34m:\u001b[0m\u001b[0;34m\u001b[0m\u001b[0m\n\u001b[1;32m    716\u001b[0m       result = self._run(None, fetches, feed_dict, options_ptr,\n\u001b[0;32m--> 717\u001b[0;31m                          run_metadata_ptr)\n\u001b[0m\u001b[1;32m    718\u001b[0m       \u001b[0;32mif\u001b[0m \u001b[0mrun_metadata\u001b[0m\u001b[0;34m:\u001b[0m\u001b[0;34m\u001b[0m\u001b[0m\n\u001b[1;32m    719\u001b[0m         \u001b[0mproto_data\u001b[0m \u001b[0;34m=\u001b[0m \u001b[0mtf_session\u001b[0m\u001b[0;34m.\u001b[0m\u001b[0mTF_GetBuffer\u001b[0m\u001b[0;34m(\u001b[0m\u001b[0mrun_metadata_ptr\u001b[0m\u001b[0;34m)\u001b[0m\u001b[0;34m\u001b[0m\u001b[0m\n",
      "\u001b[0;32m/usr/lib/python2.7/site-packages/tensorflow/python/client/session.pyc\u001b[0m in \u001b[0;36m_run\u001b[0;34m(self, handle, fetches, feed_dict, options, run_metadata)\u001b[0m\n\u001b[1;32m    913\u001b[0m     \u001b[0;32mif\u001b[0m \u001b[0mfinal_fetches\u001b[0m \u001b[0;32mor\u001b[0m \u001b[0mfinal_targets\u001b[0m\u001b[0;34m:\u001b[0m\u001b[0;34m\u001b[0m\u001b[0m\n\u001b[1;32m    914\u001b[0m       results = self._do_run(handle, final_targets, final_fetches,\n\u001b[0;32m--> 915\u001b[0;31m                              feed_dict_string, options, run_metadata)\n\u001b[0m\u001b[1;32m    916\u001b[0m     \u001b[0;32melse\u001b[0m\u001b[0;34m:\u001b[0m\u001b[0;34m\u001b[0m\u001b[0m\n\u001b[1;32m    917\u001b[0m       \u001b[0mresults\u001b[0m \u001b[0;34m=\u001b[0m \u001b[0;34m[\u001b[0m\u001b[0;34m]\u001b[0m\u001b[0;34m\u001b[0m\u001b[0m\n",
      "\u001b[0;32m/usr/lib/python2.7/site-packages/tensorflow/python/client/session.pyc\u001b[0m in \u001b[0;36m_do_run\u001b[0;34m(self, handle, target_list, fetch_list, feed_dict, options, run_metadata)\u001b[0m\n\u001b[1;32m    963\u001b[0m     \u001b[0;32mif\u001b[0m \u001b[0mhandle\u001b[0m \u001b[0;32mis\u001b[0m \u001b[0mNone\u001b[0m\u001b[0;34m:\u001b[0m\u001b[0;34m\u001b[0m\u001b[0m\n\u001b[1;32m    964\u001b[0m       return self._do_call(_run_fn, self._session, feed_dict, fetch_list,\n\u001b[0;32m--> 965\u001b[0;31m                            target_list, options, run_metadata)\n\u001b[0m\u001b[1;32m    966\u001b[0m     \u001b[0;32melse\u001b[0m\u001b[0;34m:\u001b[0m\u001b[0;34m\u001b[0m\u001b[0m\n\u001b[1;32m    967\u001b[0m       return self._do_call(_prun_fn, self._session, handle, feed_dict,\n",
      "\u001b[0;32m/usr/lib/python2.7/site-packages/tensorflow/python/client/session.pyc\u001b[0m in \u001b[0;36m_do_call\u001b[0;34m(self, fn, *args)\u001b[0m\n\u001b[1;32m    970\u001b[0m   \u001b[0;32mdef\u001b[0m \u001b[0m_do_call\u001b[0m\u001b[0;34m(\u001b[0m\u001b[0mself\u001b[0m\u001b[0;34m,\u001b[0m \u001b[0mfn\u001b[0m\u001b[0;34m,\u001b[0m \u001b[0;34m*\u001b[0m\u001b[0margs\u001b[0m\u001b[0;34m)\u001b[0m\u001b[0;34m:\u001b[0m\u001b[0;34m\u001b[0m\u001b[0m\n\u001b[1;32m    971\u001b[0m     \u001b[0;32mtry\u001b[0m\u001b[0;34m:\u001b[0m\u001b[0;34m\u001b[0m\u001b[0m\n\u001b[0;32m--> 972\u001b[0;31m       \u001b[0;32mreturn\u001b[0m \u001b[0mfn\u001b[0m\u001b[0;34m(\u001b[0m\u001b[0;34m*\u001b[0m\u001b[0margs\u001b[0m\u001b[0;34m)\u001b[0m\u001b[0;34m\u001b[0m\u001b[0m\n\u001b[0m\u001b[1;32m    973\u001b[0m     \u001b[0;32mexcept\u001b[0m \u001b[0merrors\u001b[0m\u001b[0;34m.\u001b[0m\u001b[0mOpError\u001b[0m \u001b[0;32mas\u001b[0m \u001b[0me\u001b[0m\u001b[0;34m:\u001b[0m\u001b[0;34m\u001b[0m\u001b[0m\n\u001b[1;32m    974\u001b[0m       \u001b[0mmessage\u001b[0m \u001b[0;34m=\u001b[0m \u001b[0mcompat\u001b[0m\u001b[0;34m.\u001b[0m\u001b[0mas_text\u001b[0m\u001b[0;34m(\u001b[0m\u001b[0me\u001b[0m\u001b[0;34m.\u001b[0m\u001b[0mmessage\u001b[0m\u001b[0;34m)\u001b[0m\u001b[0;34m\u001b[0m\u001b[0m\n",
      "\u001b[0;32m/usr/lib/python2.7/site-packages/tensorflow/python/client/session.pyc\u001b[0m in \u001b[0;36m_run_fn\u001b[0;34m(session, feed_dict, fetch_list, target_list, options, run_metadata)\u001b[0m\n\u001b[1;32m    952\u001b[0m         return tf_session.TF_Run(session, options,\n\u001b[1;32m    953\u001b[0m                                  \u001b[0mfeed_dict\u001b[0m\u001b[0;34m,\u001b[0m \u001b[0mfetch_list\u001b[0m\u001b[0;34m,\u001b[0m \u001b[0mtarget_list\u001b[0m\u001b[0;34m,\u001b[0m\u001b[0;34m\u001b[0m\u001b[0m\n\u001b[0;32m--> 954\u001b[0;31m                                  status, run_metadata)\n\u001b[0m\u001b[1;32m    955\u001b[0m \u001b[0;34m\u001b[0m\u001b[0m\n\u001b[1;32m    956\u001b[0m     \u001b[0;32mdef\u001b[0m \u001b[0m_prun_fn\u001b[0m\u001b[0;34m(\u001b[0m\u001b[0msession\u001b[0m\u001b[0;34m,\u001b[0m \u001b[0mhandle\u001b[0m\u001b[0;34m,\u001b[0m \u001b[0mfeed_dict\u001b[0m\u001b[0;34m,\u001b[0m \u001b[0mfetch_list\u001b[0m\u001b[0;34m)\u001b[0m\u001b[0;34m:\u001b[0m\u001b[0;34m\u001b[0m\u001b[0m\n",
      "\u001b[0;31mKeyboardInterrupt\u001b[0m: "
     ]
    }
   ],
   "source": [
    "# Launch the graph\n",
    "with tf.Session() as sess:\n",
    "    sess.run(init)\n",
    "    step = 1\n",
    "    # Keep training until reach max iterations\n",
    "    while step * batch_size < training_iters:        \n",
    "        train_batches = batch_gen(x_train, y_train, batch_size)\n",
    "        batch_xs, batch_ys = next(train_batches)\n",
    "        # Fit training using batch data\n",
    "        sess.run(optimizer, feed_dict={x: batch_xs, y: batch_ys, keep_prob: dropout})\n",
    "        if step % display_step == 0:\n",
    "            # Calculate batch accuracy\n",
    "            acc = sess.run(accuracy, feed_dict={x: batch_xs, y: batch_ys, keep_prob: 1.})\n",
    "            # Calculate batch loss\n",
    "            loss = sess.run(cost, feed_dict={x: batch_xs, y: batch_ys, keep_prob: 1.})\n",
    "            print (\"Iter \" + str(step*batch_size) + \", Minibatch Loss= \" + \\\n",
    "                  \"{:.6f}\".format(loss) + \", Training Accuracy= \" + \\\n",
    "                \"{:.5f}\".format(acc))\n",
    "            print (\"Testing Accuracy:\", sess.run(accuracy, feed_dict={x: x_test, \n",
    "                                                             y: y_test, \n",
    "                                                             keep_prob: 1.}))\n",
    "        step += 1"
   ]
  },
  {
   "cell_type": "code",
   "execution_count": null,
   "metadata": {
    "collapsed": true
   },
   "outputs": [],
   "source": []
  }
 ],
 "metadata": {
  "anaconda-cloud": {},
  "kernelspec": {
   "display_name": "Python 2",
   "language": "python",
   "name": "python2"
  },
  "language_info": {
   "codemirror_mode": {
    "name": "ipython",
    "version": 2
   },
   "file_extension": ".py",
   "mimetype": "text/x-python",
   "name": "python",
   "nbconvert_exporter": "python",
   "pygments_lexer": "ipython2",
   "version": "2.7.5"
  }
 },
 "nbformat": 4,
 "nbformat_minor": 0
}
